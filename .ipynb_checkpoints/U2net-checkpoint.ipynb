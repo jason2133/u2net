{
 "cells": [
  {
   "cell_type": "markdown",
   "metadata": {
    "id": "My1_5AFmSUf5"
   },
   "source": [
    "<table align=\"left\">\n",
    "  <td>\n",
    "    <a target=\"_blank\" href=\"https://colab.research.google.com/github/<<<https://github.com 제외한 깃허브 파일 주소 입력>>>\"><img src=\"https://www.tensorflow.org/images/colab_logo_32px.png\" />구글 코랩에서 실행하기</a>\n",
    "  </td>\n",
    "</table>"
   ]
  },
  {
   "cell_type": "code",
   "execution_count": 1,
   "metadata": {
    "colab": {
     "base_uri": "https://localhost:8080/"
    },
    "executionInfo": {
     "elapsed": 20812,
     "status": "ok",
     "timestamp": 1643350260283,
     "user": {
      "displayName": "",
      "photoUrl": "",
      "userId": ""
     },
     "user_tz": -540
    },
    "id": "oa1Z1w-IFEyi",
    "outputId": "89161d45-e32a-4a20-8ce7-01b050968bbb"
   },
   "outputs": [
    {
     "name": "stdout",
     "output_type": "stream",
     "text": [
      "Mounted at /content/drive\n",
      "/content/drive\n"
     ]
    }
   ],
   "source": [
    "from google.colab import drive\n",
    "drive.mount('/content/drive')\n",
    "%cd /content/drive"
   ]
  },
  {
   "cell_type": "code",
   "execution_count": 2,
   "metadata": {
    "colab": {
     "base_uri": "https://localhost:8080/"
    },
    "executionInfo": {
     "elapsed": 957,
     "status": "ok",
     "timestamp": 1643350261202,
     "user": {
      "displayName": "",
      "photoUrl": "",
      "userId": ""
     },
     "user_tz": -540
    },
    "id": "76IwwD9GJG8k",
    "outputId": "62d6c23e-6c16-4b51-fe8a-b7d51ddc31e9"
   },
   "outputs": [
    {
     "name": "stdout",
     "output_type": "stream",
     "text": [
      "/content/drive/MyDrive\n",
      "Cloning into 'u2net'...\n",
      "remote: Enumerating objects: 71, done.\u001b[K\n",
      "remote: Counting objects: 100% (71/71), done.\u001b[K\n",
      "remote: Compressing objects: 100% (66/66), done.\u001b[K\n",
      "remote: Total 71 (delta 22), reused 0 (delta 0), pack-reused 0\u001b[K\n",
      "Unpacking objects: 100% (71/71), done.\n"
     ]
    }
   ],
   "source": [
    "%cd /content/drive/MyDrive/\n",
    "!git clone https://github.com/jason2133/u2net.git"
   ]
  },
  {
   "cell_type": "markdown",
   "metadata": {
    "id": "kRXT145yTwYJ"
   },
   "source": [
    "download u2net.pth from https://drive.google.com/file/d/1ao1ovG1Qtx4b7EoskHXmi2E9rp5CHLcZ/view?usp=sharing\n"
   ]
  },
  {
   "cell_type": "markdown",
   "metadata": {
    "id": "dPA_aO_QT-JR"
   },
   "source": [
    "put u2net.pth to u2net/U-2-Net/saved_models/u2net"
   ]
  },
  {
   "cell_type": "code",
   "execution_count": 4,
   "metadata": {
    "executionInfo": {
     "elapsed": 344,
     "status": "ok",
     "timestamp": 1643350567487,
     "user": {
      "displayName": "",
      "photoUrl": "",
      "userId": ""
     },
     "user_tz": -540
    },
    "id": "nezfRkLG8TDO"
   },
   "outputs": [],
   "source": [
    "# 백그라운드를 제거하고 싶은 이미지가 있는 폴더경로.\n",
    "# input_path = \"/content/drive/MyDrive/<write your image folder dir>\"\n",
    "input_path = \"/content/drive/MyDrive/images\""
   ]
  },
  {
   "cell_type": "code",
   "execution_count": 6,
   "metadata": {
    "colab": {
     "base_uri": "https://localhost:8080/"
    },
    "executionInfo": {
     "elapsed": 334,
     "status": "ok",
     "timestamp": 1643350603459,
     "user": {
      "displayName": "",
      "photoUrl": "",
      "userId": ""
     },
     "user_tz": -540
    },
    "id": "kch3rMF16vWx",
    "outputId": "7ffa453a-fa1d-4217-e30d-0b88bf47cebb"
   },
   "outputs": [
    {
     "name": "stdout",
     "output_type": "stream",
     "text": [
      "/content/drive/MyDrive/u2net\n"
     ]
    }
   ],
   "source": [
    "# 이미지들이 있는 폴더경로를 주면 이미지의 이름을 바꾸줌 ex) 0.png\n",
    "# change images' name\n",
    "%cd /content/drive/MyDrive/u2net\n",
    "!python rename.py --image_path {input_path}"
   ]
  },
  {
   "cell_type": "code",
   "execution_count": 10,
   "metadata": {
    "colab": {
     "base_uri": "https://localhost:8080/"
    },
    "executionInfo": {
     "elapsed": 15711,
     "status": "ok",
     "timestamp": 1643350831149,
     "user": {
      "displayName": "",
      "photoUrl": "",
      "userId": ""
     },
     "user_tz": -540
    },
    "id": "-vw_CRJaek4j",
    "outputId": "b65c4a37-4b75-4c31-efcb-41121776e8c8"
   },
   "outputs": [
    {
     "name": "stdout",
     "output_type": "stream",
     "text": [
      "/content/drive/MyDrive/u2net/U-2-Net\n",
      "['/content/drive/MyDrive/images/0.jpg', '/content/drive/MyDrive/images/1.jpg', '/content/drive/MyDrive/images/2.jpg']\n",
      "...load U2NET---173.6 MB\n",
      "mask_dir: /content/drive/MyDrive/images_mask\n",
      "inferencing: 0.jpg\n",
      "/usr/local/lib/python3.7/dist-packages/torch/nn/functional.py:3509: UserWarning: nn.functional.upsample is deprecated. Use nn.functional.interpolate instead.\n",
      "  warnings.warn(\"nn.functional.upsample is deprecated. Use nn.functional.interpolate instead.\")\n",
      "/usr/local/lib/python3.7/dist-packages/torch/nn/functional.py:3635: UserWarning: Default upsampling behavior when mode=bilinear is changed to align_corners=False since 0.4.0. Please specify align_corners=True if the old behavior is desired. See the documentation of nn.Upsample for details.\n",
      "  \"See the documentation of nn.Upsample for details.\".format(mode)\n",
      "/usr/local/lib/python3.7/dist-packages/torch/nn/functional.py:1806: UserWarning: nn.functional.sigmoid is deprecated. Use torch.sigmoid instead.\n",
      "  warnings.warn(\"nn.functional.sigmoid is deprecated. Use torch.sigmoid instead.\")\n",
      "inferencing: 1.jpg\n",
      "inferencing: 2.jpg\n"
     ]
    }
   ],
   "source": [
    "# 이미지 경로를 주면 이미지 경로_mask 폴더를 만든 후, 그 폴더에 mask된 이미지를 저장.\n",
    "# make masked images\n",
    "%cd /content/drive/MyDrive/u2net/U-2-Net\n",
    "!python u2net_test.py --image_path {input_path}"
   ]
  },
  {
   "cell_type": "code",
   "execution_count": 12,
   "metadata": {
    "colab": {
     "base_uri": "https://localhost:8080/"
    },
    "executionInfo": {
     "elapsed": 538,
     "status": "ok",
     "timestamp": 1643350851431,
     "user": {
      "displayName": "",
      "photoUrl": "",
      "userId": ""
     },
     "user_tz": -540
    },
    "id": "kM8LApKCc_da",
    "outputId": "3490b8ae-fcb8-43a4-a29c-d320fe775c56"
   },
   "outputs": [
    {
     "name": "stdout",
     "output_type": "stream",
     "text": [
      "/content/drive/MyDrive/u2net\n",
      "3\n",
      "output_dir: /content/drive/MyDrive/images_rm_bg\n",
      "Masking image 0 completed.\n",
      "\n",
      "Masking image 1 completed.\n",
      "\n",
      "Masking image 2 completed.\n",
      "\n"
     ]
    }
   ],
   "source": [
    "# 이미지 경로를 주면 이미지 경로_rm_bg 폴더를 만든 후, 그 폴더에 백그라운드 제거된 이미지를 저장.\n",
    "# make background_removed images\n",
    "%cd /content/drive/MyDrive/u2net\n",
    "!python mask.py --image_path {input_path}"
   ]
  }
 ],
 "metadata": {
  "accelerator": "GPU",
  "colab": {
   "collapsed_sections": [],
   "name": "U2net.ipynb의 사본",
   "provenance": [
    {
     "file_id": "https://github.com/just-benedict-it/u2net/blob/main/U2net.ipynb",
     "timestamp": 1643350950191
    }
   ]
  },
  "kernelspec": {
   "display_name": "Python 3",
   "language": "python",
   "name": "python3"
  },
  "language_info": {
   "codemirror_mode": {
    "name": "ipython",
    "version": 3
   },
   "file_extension": ".py",
   "mimetype": "text/x-python",
   "name": "python",
   "nbconvert_exporter": "python",
   "pygments_lexer": "ipython3",
   "version": "3.8.8"
  }
 },
 "nbformat": 4,
 "nbformat_minor": 1
}
